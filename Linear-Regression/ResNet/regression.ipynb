{
 "cells": [
  {
   "cell_type": "markdown",
   "metadata": {},
   "source": [
    "You can use the following commands to perform LinearRegression on the AVA-Dataset using the Embedding Files we created earlier:"
   ]
  },
  {
   "cell_type": "code",
   "execution_count": 1,
   "metadata": {},
   "outputs": [
    {
     "name": "stderr",
     "output_type": "stream",
     "text": [
      "/Users/simon/opt/anaconda3/envs/bird/lib/python3.9/site-packages/tqdm/auto.py:22: TqdmWarning: IProgress not found. Please update jupyter and ipywidgets. See https://ipywidgets.readthedocs.io/en/stable/user_install.html\n",
      "  from .autonotebook import tqdm as notebook_tqdm\n"
     ]
    }
   ],
   "source": [
    "import torch\n",
    "import numpy as np\n",
    "import pandas as pd\n",
    "import matplotlib.pyplot as plt\n",
    "import os\n",
    "\n",
    "from datetime import datetime\n",
    "\n",
    "from scipy.stats import spearmanr, pearsonr\n",
    "from sklearn.metrics import classification_report\n",
    "from sklearn.preprocessing import StandardScaler\n",
    "import scipy\n",
    "\n",
    "from sklearn.linear_model import LinearRegression\n"
   ]
  },
  {
   "cell_type": "code",
   "execution_count": null,
   "metadata": {},
   "outputs": [],
   "source": [
    "#Set BASE_PATH to the directory containing the embeddings created using either the CLIP or IN21k ResNet Variants\n",
    "\n",
    "\n",
    "#BASE_PATH = './enocdings_clip'\n",
    "#BASE_PATH = './encodings_clip_cc12m'\n",
    "BASE_PATH = './encodings_clip_openai'\n",
    "#BASE_PATH = './encodings_imagenet'\n",
    "\n",
    "\n",
    "train_encodings, train_y = torch.load(os.path.join(BASE_PATH, 'train_encodings.pt')), torch.load(os.path.join(BASE_PATH, 'train_ratings.pt'))\n",
    "test_encodings, test_y = torch.load(os.path.join(BASE_PATH, 'test_encodings.pt')), torch.load(os.path.join(BASE_PATH, 'test_ratings.pt'))\n",
    "\n",
    "train_y = (train_y @ torch.tensor([1,2,3,4,5,6,7,8,9,10], dtype=torch.float32)).unsqueeze(dim=1)\n",
    "test_y = (test_y @ torch.tensor([1,2,3,4,5,6,7,8,9,10], dtype=torch.float32)).unsqueeze(dim=1)\n",
    "\n",
    "test_y = test_y.numpy()\n",
    "train_y = train_y.numpy()\n",
    "train_encodings = train_encodings.numpy()\n",
    "test_encodings = test_encodings.numpy()\n",
    "\n",
    "scaler = StandardScaler()\n",
    "scaler.fit(train_encodings)\n",
    "train_encodings = scaler.transform(train_encodings)\n",
    "test_encodings = scaler.transform(test_encodings)"
   ]
  },
  {
   "cell_type": "code",
   "execution_count": null,
   "metadata": {},
   "outputs": [],
   "source": [
    "lin_reg = LinearRegression().fit(train_encodings, train_y)"
   ]
  },
  {
   "cell_type": "code",
   "execution_count": null,
   "metadata": {},
   "outputs": [
    {
     "name": "stdout",
     "output_type": "stream",
     "text": [
      "[5.3840265]\n",
      "2.3244534 7.304132 5.3783875\n",
      "\n",
      "------------------ \n",
      "Linear Regression :\n",
      "Binary Results: \n",
      "\n",
      "              precision    recall  f1-score   support\n",
      "\n",
      "         bad     0.7072    0.5202    0.5995      7597\n",
      "        good     0.8174    0.9089    0.8607     17954\n",
      "\n",
      "    accuracy                         0.7933     25551\n",
      "   macro avg     0.7623    0.7145    0.7301     25551\n",
      "weighted avg     0.7847    0.7933    0.7830     25551\n",
      "\n",
      "Continuous Results: \n",
      "\n",
      "Spearman: 0.673779405527753\n",
      "\n",
      "Pearson: 0.681997027278449\n",
      "\n"
     ]
    }
   ],
   "source": [
    "pred = lin_reg.predict(test_encodings)\n",
    "\n",
    "labels = (test_y > 5.0)\n",
    "binary_pred = pred > 5.0\n",
    "\n",
    "spearman, p = spearmanr(pred, test_y)\n",
    "pearson, p2 = pearsonr(pred.squeeze(), test_y.squeeze())\n",
    "\n",
    "\n",
    "\n",
    "print(f\"\\n------------------ \\nLinear Regression :\")\n",
    "print(f\"Binary Results: \\n\")\n",
    "print(classification_report(labels, binary_pred, digits=4, target_names= ['bad', 'good']))\n",
    "\n",
    "print(f\"Continuous Results: \\n\")\n",
    "print(f\"Spearman: {spearman}\\n\") \n",
    "print(f\"Pearson: {pearson}\\n\") "
   ]
  }
 ],
 "metadata": {
  "kernelspec": {
   "display_name": "Python 3.9.12 ('bird')",
   "language": "python",
   "name": "python3"
  },
  "language_info": {
   "codemirror_mode": {
    "name": "ipython",
    "version": 3
   },
   "file_extension": ".py",
   "mimetype": "text/x-python",
   "name": "python",
   "nbconvert_exporter": "python",
   "pygments_lexer": "ipython3",
   "version": "3.9.12"
  },
  "orig_nbformat": 4,
  "vscode": {
   "interpreter": {
    "hash": "51a4d6e9328b7cb323b5218a8b3845008f4367bc9b0e41016e7f7daf2379d50f"
   }
  }
 },
 "nbformat": 4,
 "nbformat_minor": 2
}
